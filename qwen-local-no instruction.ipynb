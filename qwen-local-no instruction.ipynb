{
 "cells": [
  {
   "cell_type": "code",
   "execution_count": null,
   "id": "095b0349-c1c1-453f-a7c4-33c37c032c89",
   "metadata": {},
   "outputs": [],
   "source": [
    "import json\n",
    "import random\n",
    "import io\n",
    "import ast\n",
    "from PIL import Image\n",
    "from pdf2image import convert_from_path\n",
    "from IPython.display import Markdown, display\n",
    "from openai import OpenAI\n",
    "import os\n",
    "import pymupdf\n",
    "import base64\n",
    "import shutil\n",
    "import pandas as pd\n",
    "import numpy as np\n",
    "import time"
   ]
  },
  {
   "cell_type": "code",
   "execution_count": null,
   "id": "739c532d-a3b9-4ca3-bc29-ef03b9ad7d68",
   "metadata": {},
   "outputs": [],
   "source": [
    "# @title Parsing JSON output\n",
    "def parse_json(json_output):\n",
    "    # Parsing out the markdown fencing\n",
    "    lines = json_output.splitlines()\n",
    "    for i, line in enumerate(lines):\n",
    "        if line == \"```json\":\n",
    "            json_output = \"\\n\".join(lines[i+1:])  # Remove everything before \"```json\"\n",
    "            json_output = json_output.split(\"```\")[0]  # Remove everything after the closing \"```\"\n",
    "            break  # Exit the loop once \"```json\" is found\n",
    "    return json_output"
   ]
  },
  {
   "cell_type": "code",
   "execution_count": null,
   "id": "87f51fb6-6f5a-4490-8582-d7fecea54d15",
   "metadata": {},
   "outputs": [],
   "source": [
    "# @title inference function\n",
    "def inference(image_path, prompt, sys_prompt=\"You are a helpful assistant.\", max_new_tokens=4096, return_input=False):\n",
    "    image = Image.open(image_path)\n",
    "    image_local_path = \"file://\" + image_path\n",
    "    messages = [\n",
    "        {\"role\": \"system\", \"content\": sys_prompt},\n",
    "        {\"role\": \"user\", \"content\": [\n",
    "                {\"type\": \"text\", \"text\": prompt},\n",
    "                {\"image\": image_local_path},\n",
    "            ]\n",
    "        },\n",
    "    ]\n",
    "    text = processor.apply_chat_template(messages, tokenize=False, add_generation_prompt=True)\n",
    "    #print(\"text:\", text)\n",
    "    image_inputs, video_inputs = process_vision_info([messages])\n",
    "    inputs = processor(text=[text], images=[image], padding=True, return_tensors=\"pt\")\n",
    "    inputs = inputs.to('mps')\n",
    "\n",
    "    output_ids = model.generate(**inputs, max_new_tokens=max_new_tokens)\n",
    "    generated_ids = [output_ids[len(input_ids):] for input_ids, output_ids in zip(inputs.input_ids, output_ids)]\n",
    "    output_text = processor.batch_decode(generated_ids, skip_special_tokens=True, clean_up_tokenization_spaces=True)\n",
    "    if return_input:\n",
    "        return output_text[0], inputs\n",
    "    else:\n",
    "        return output_text[0]"
   ]
  },
  {
   "cell_type": "code",
   "execution_count": null,
   "id": "b4e7383f-cb0d-4088-955d-42ea89e43ee6",
   "metadata": {},
   "outputs": [],
   "source": [
    "import torch\n",
    "from transformers import Qwen2_5_VLForConditionalGeneration, AutoTokenizer, AutoProcessor\n",
    "from qwen_vl_utils import process_vision_info\n",
    "\n",
    "# default: Load the model on the available device(s)\n",
    "model = Qwen2_5_VLForConditionalGeneration.from_pretrained(\n",
    "    \"Qwen/Qwen2.5-VL-7B-Instruct\", torch_dtype=torch.float16, device_map=\"auto\"\n",
    ")\n",
    "# default processer\n",
    "processor = AutoProcessor.from_pretrained(\"Qwen/Qwen2.5-VL-7B-Instruct\")\n",
    "tokenizer = AutoTokenizer.from_pretrained(\"Qwen/Qwen2.5-VL-7B-Instruct\")"
   ]
  },
  {
   "cell_type": "code",
   "execution_count": null,
   "id": "6d33f064-06c5-449b-b29f-a73ffc4ca61c",
   "metadata": {},
   "outputs": [],
   "source": [
    "prompt = \"Extract following information from the image ['patentnummer', 'klass', 'IPC','patenthavare1','patenthavare_antal', 'patenthavare_typ','patenthavare_typ_av_skrivet', 'patenthavare1_address', 'patenthavare1_stad', 'patenthavare1_land','patenthavare_manuell_korrigering','ombud', 'ombud_adress','patenttid_fr', 'patenttid_till', 'beviljandedatum', 'utgångsdatum', 'utgångsår', 'utgångsskäl','ansökingsnr','sistaerlagdapatentåravgifter_datum','sistaerlagdapatentåravgifter_belopp','uppfinningensbenämning','uppfinningensbenämning_typ', 'uppfinningensbenämning_manuell_korrigering','uppfinnare1', 'uppfinnare_antal','prioritet','patentöverföring','licensupplåtelse','tilläggspatent','ombudsbyte'], and output in JSON format.\"\n"
   ]
  },
  {
   "cell_type": "code",
   "execution_count": null,
   "id": "f56f219e-cb7f-4ee4-b95c-99e89f2c24fe",
   "metadata": {
    "tags": []
   },
   "outputs": [],
   "source": [
    "#preprocess of the pdfs\n",
    "#combine them into one-pages and convert to image\n",
    "\n",
    "def combine_two_page (input_path):\n",
    "    input_pdf = pymupdf.open(input_path)\n",
    "    if len(input_pdf) != 2: \n",
    "        print (f\"Transfering {input_path}, not two-page\")\n",
    "        file_name = os.path.splitext(os.path.basename(input_path))[0]\n",
    "        output_path = os.path.join(output_dir,f\"{file_name}.pdf\")\n",
    "        image_path = os.path.join(output_dir,f\"{file_name}.jpg\")\n",
    "        input_pdf.save(output_path)\n",
    "\n",
    "        images = convert_from_path(output_path)\n",
    "        images[0].save(image_path)\n",
    "        return\n",
    "    #create new pdf\n",
    "    output_pdf = pymupdf.open()\n",
    "    new_page = output_pdf.new_page(width = 2*input_pdf[0].rect.width, height = input_pdf[0].rect.height)\n",
    "    left_rect = pymupdf.Rect(0, 0, input_pdf[0].rect.width, input_pdf[0].rect.height)\n",
    "    right_rect = pymupdf.Rect(input_pdf[0].rect.width, 0, 2*input_pdf[0].rect.width, input_pdf[0].rect.height)\n",
    "    new_page.show_pdf_page(left_rect, input_pdf, 0)\n",
    "    new_page.show_pdf_page(right_rect, input_pdf, 1)\n",
    "\n",
    "    file_name = os.path.splitext(os.path.basename(input_path))[0]\n",
    "    output_path = os.path.join(output_dir,f\"{file_name}.pdf\")\n",
    "    image_path = os.path.join(output_dir,f\"{file_name}.jpg\")\n",
    "    output_pdf.save(output_path)\n",
    "\n",
    "    images = convert_from_path(output_path)\n",
    "    images[0].save(image_path)\n",
    "    \n",
    "\n",
    "    print(f\"{file_name} combined and saved\")\n",
    "\n",
    "def  process_files_in_folder(folder_path, output_dir):\n",
    "    if not os.path.exists(output_dir):\n",
    "        os.makedirs(output_dir)\n",
    "\n",
    "    for file in os.listdir(folder_path):\n",
    "        if file.endswith(\".pdf\"):\n",
    "            input_path = os.path.join(folder_path, file)\n",
    "            combine_two_page(input_path)"
   ]
  },
  {
   "cell_type": "code",
   "execution_count": null,
   "id": "898a4740-9a6d-448c-980a-bef7fa913c4b",
   "metadata": {},
   "outputs": [],
   "source": [
    "folder_path = # Folder of the patent cards\n",
    "output_dir = 'cards_in_image'# Temporary directory\n",
    "\n",
    "process_files_in_folder(folder_path, output_dir)"
   ]
  },
  {
   "cell_type": "code",
   "execution_count": null,
   "id": "437fc8df-26c5-413a-937c-78395eae9593",
   "metadata": {},
   "outputs": [],
   "source": [
    "def resize_image(input_path, max_size=(400, 600)):\n",
    "    with Image.open(input_path) as img:\n",
    "        img = img.convert(\"RGB\")  # Ensure it's in RGB\n",
    "        img.thumbnail(max_size)  # Resize while maintaining aspect ratio\n",
    "        img.save(input_path, optimize=True, quality=100)  # Overwrite original"
   ]
  },
  {
   "cell_type": "code",
   "execution_count": null,
   "id": "2e436dab-3780-46dd-b585-5113a3d2b7a2",
   "metadata": {},
   "outputs": [],
   "source": [
    "image_dir = output_dir\n",
    "\n",
    "results = []\n",
    "\n",
    "for file in os.listdir(image_dir):\n",
    "    if file.endswith(\".jpg\"):\n",
    "        image_path = os.path.join(image_dir, file)\n",
    "        \n",
    "        # Resize image before inference\n",
    "        resize_image(image_path, max_size=(512, 512))\n",
    "\n",
    "        # Extract patent number from filename\n",
    "        patentnummer = os.path.splitext(file)[0]\n",
    "        print(image_path)\n",
    "\n",
    "        # --- Start timing ---\n",
    "        start_time = time.time()\n",
    "\n",
    "        # --- Run inference ---\n",
    "        response = inference(image_path, prompt)\n",
    "\n",
    "        # --- End timing ---\n",
    "        elapsed_time = time.time() - start_time\n",
    "\n",
    "        # --- Clean response if it's wrapped in Markdown or code block ---\n",
    "        if response.startswith(\"```\"):\n",
    "            response = response.strip().strip(\"`\").strip(\"json\").strip()\n",
    "\n",
    "        # --- Token counting ---\n",
    "        input_tokens = tokenizer.encode(prompt, add_special_tokens=False)\n",
    "        input_token_count = len(input_tokens)\n",
    "\n",
    "        output_tokens = tokenizer.encode(response, add_special_tokens=False)\n",
    "        output_token_count = len(output_tokens)\n",
    "\n",
    "        print(f\"🕒 Time: {elapsed_time:.2f} sec | 🔡 Input tokens: {input_token_count} | 📝 Output tokens: {output_token_count}\")\n",
    "        \n",
    "        try:\n",
    "            parsed_data = json.loads(response)\n",
    "            parsed_data[\"patent_nummer\"] = patentnummer\n",
    "            results.append(parsed_data)\n",
    "        except json.JSONDecodeError as e:\n",
    "            print(f\"Failed to parse JSON for {file}: {e}\")\n",
    "            print(\"Response was:\", repr(response))\n"
   ]
  },
  {
   "cell_type": "code",
   "execution_count": null,
   "id": "96ae7210-9b22-4972-8d3c-a5c4b4ff857b",
   "metadata": {},
   "outputs": [],
   "source": [
    "# Preview as a DataFrame\n",
    "df = pd.DataFrame(results)\n",
    "display(df)"
   ]
  },
  {
   "cell_type": "code",
   "execution_count": null,
   "id": "d1fadf4c-3cfa-481f-bfd8-5ac3fa9e9fdd",
   "metadata": {},
   "outputs": [],
   "source": [
    "# Export to CSV\n",
    "csv_file = 'results-no_instructions.csv'\n",
    "df.to_csv(csv_file, index=False, encoding='utf-8')\n",
    "print(f\"Results exported to {csv_file}\")"
   ]
  }
 ],
 "metadata": {
  "kernelspec": {
   "display_name": "Python 3 (ipykernel)",
   "language": "python",
   "name": "python3"
  },
  "language_info": {
   "codemirror_mode": {
    "name": "ipython",
    "version": 3
   },
   "file_extension": ".py",
   "mimetype": "text/x-python",
   "name": "python",
   "nbconvert_exporter": "python",
   "pygments_lexer": "ipython3",
   "version": "3.11.5"
  }
 },
 "nbformat": 4,
 "nbformat_minor": 5
}
